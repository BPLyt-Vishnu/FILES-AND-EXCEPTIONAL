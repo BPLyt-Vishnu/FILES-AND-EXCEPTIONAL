{
  "nbformat": 4,
  "nbformat_minor": 0,
  "metadata": {
    "colab": {
      "provenance": []
    },
    "kernelspec": {
      "name": "python3",
      "display_name": "Python 3"
    },
    "language_info": {
      "name": "python"
    }
  },
  "cells": [
    {
      "cell_type": "code",
      "execution_count": null,
      "metadata": {
        "id": "KJROTdTQ2XKB"
      },
      "outputs": [],
      "source": [
        "#THEORY ANSWER"
      ]
    },
    {
      "cell_type": "markdown",
      "source": [
        "1. What is the difference between interpreted and compiled languages?\n",
        "\n",
        "Answer:\n",
        "\n",
        "Compiled Languages:\n",
        "\n",
        "Process: Source code is translated into machine code (binary) by a compiler before execution. The compiled code is directly executed by the processor.\n",
        "\n",
        "Execution: Faster execution since it's directly executable.\n",
        "\n",
        "Examples: C, C++, Go.\n",
        "\n",
        "Interpreted Languages:\n",
        "\n",
        "Process: Source code is executed directly line by line by an interpreter during runtime.\n",
        "\n",
        "Execution: Generally slower execution compared to compiled code.\n",
        "\n",
        "Examples: Python, JavaScript, Ruby.\n",
        "\n",
        "Key Difference: Compiled languages have a separate compilation step, while interpreted languages execute source code directly during runtime."
      ],
      "metadata": {
        "id": "eRcMV3Vk2kn2"
      }
    },
    {
      "cell_type": "markdown",
      "source": [
        "2. What is exception handling in Python?\n",
        "\n",
        "Answer: Exception handling is a mechanism for dealing with errors or exceptional situations that may occur during program execution.\n",
        "\n",
        "Purpose: Prevents program crashes and enables graceful error recovery.\n",
        "\n",
        "try-except Block: Python uses the try and except blocks to catch and handle exceptions.\n",
        "\n",
        "Robust Programs: Helps in creating more reliable and stable programs."
      ],
      "metadata": {
        "id": "zHYhAMRl2kqR"
      }
    },
    {
      "cell_type": "markdown",
      "source": [
        "3. What is the purpose of the finally block in exception handling?\n",
        "\n",
        "Answer: The finally block is an optional block that is executed regardless of whether an exception occurred in the try block or not.\n",
        "\n",
        "Cleanup Operations: Used for tasks like closing files, releasing resources, or performing other cleanup operations that need to be done no matter what happens.\n",
        "\n",
        "Guaranteed Execution: Ensures that the cleanup code runs even if an exception is raised."
      ],
      "metadata": {
        "id": "svz0UNoM2ksq"
      }
    },
    {
      "cell_type": "markdown",
      "source": [
        "4. What is logging in Python?\n",
        "\n",
        "Answer: Logging is a mechanism for recording events and activities that occur during the execution of a program.\n",
        "\n",
        "Debugging and Monitoring: Used for debugging, monitoring, and auditing purposes.\n",
        "\n",
        "Log Messages: Log messages can include information, warnings, errors, or other important details.\n",
        "\n",
        "Levels: Different log levels (e.g., INFO, DEBUG, WARNING, ERROR, CRITICAL) allow you to control the verbosity of logging."
      ],
      "metadata": {
        "id": "2QyiLvYY2kvR"
      }
    },
    {
      "cell_type": "markdown",
      "source": [
        "5. What is the significance of the __del__ method in Python?\n",
        "\n",
        "Answer:\n",
        "* Destructor: __del__ is a special method (destructor) that is called automatically when an object is about to be garbage collected.\n",
        "* Cleanup: Used for resource cleanup, like closing files or releasing network connections, but is generally discouraged due to its unreliable nature.\n",
        "* Not Recommended: Garbage collection doesn't happen instantly, making __del__ unreliable for resource management. It's better to use context managers (with statement)."
      ],
      "metadata": {
        "id": "dNdCl9Ox2kxY"
      }
    },
    {
      "cell_type": "markdown",
      "source": [
        "6. What is the difference between import and from ... import in Python?\n",
        "\n",
        "Answer:\n",
        "\n",
        "import module_name: Imports the entire module, and the content of the module is then accessed through the module name (e.g. module_name.function_name).\n",
        "\n",
        "from module_name import object_name: Imports specific objects (variables, functions, classes) from the module and allows accessing them directly by their name (e.g. object_name).\n",
        "\n",
        "from module_name import *: (not recommended) Imports all objects from the module. This should be avoided because it could lead to name collisions in the current namespace."
      ],
      "metadata": {
        "id": "INmKa2gS2kzn"
      }
    },
    {
      "cell_type": "markdown",
      "source": [
        "7. How can you handle multiple exceptions in Python?\n",
        "\n",
        "Answer: You can handle multiple exceptions using:\n",
        "\n",
        "Multiple except blocks: Separate except blocks for different exception types.\n",
        "\n",
        "Tuple of Exceptions: Single except block catching multiple exceptions as a tuple except (TypeError, KeyError):\n",
        "\n",
        "Base Exception: Catching exceptions by using the base Exception class to catch all types of exceptions."
      ],
      "metadata": {
        "id": "cKwVo5vk2k1-"
      }
    },
    {
      "cell_type": "markdown",
      "source": [
        "8. What is the purpose of the with statement when handling files in Python?\n",
        "\n",
        "Answer: The with statement is used to create a context for file operations:\n",
        "\n",
        "Automatic Resource Management: Ensures that the file is automatically closed when exiting the with block, even if errors occur.\n",
        "\n",
        "Context Manager: Uses the \"context manager\" protocol.\n",
        "\n",
        "Cleaner Code: Makes file handling code cleaner, more readable, and less error-prone."
      ],
      "metadata": {
        "id": "kEqLMQ6z2k4Y"
      }
    },
    {
      "cell_type": "markdown",
      "source": [
        "9. What is the difference between multithreading and multiprocessing?\n",
        "\n",
        "Answer:\n",
        "\n",
        "Multithreading:\n",
        "\n",
        "Process: Uses multiple threads within a single process.\n",
        "\n",
        "Shared Memory: Threads share the same memory space.\n",
        "\n",
        "Concurrency: Handles multiple tasks concurrently (pseudo-parallelism) within a single process, often used for I/O-bound tasks.\n",
        "\n",
        "Global Interpreter Lock (GIL): In CPython, the GIL limits true parallelism.\n",
        "\n",
        "CPU-Bound: Less suitable for CPU-bound tasks.\n",
        "\n",
        "Multiprocessing:\n",
        "\n",
        "Process: Uses multiple processes, with each process having its own memory space.\n",
        "\n",
        "Separate Memory: Processes have separate memory spaces.\n",
        "\n",
        "Parallelism: Achieve true parallelism, suitable for CPU-bound tasks and can take advantage of multi-core processors.\n",
        "\n",
        "Resource Intensive: Higher memory and resource overhead than multithreading."
      ],
      "metadata": {
        "id": "sk8X7QLf2k6z"
      }
    },
    {
      "cell_type": "markdown",
      "source": [
        "10. What are the advantages of using logging in a program?\n",
        "\n",
        "Answer:\n",
        "\n",
        "Debugging: Easier to track down issues and errors.\n",
        "\n",
        "Auditing: Record system behavior and security events.\n",
        "\n",
        "Monitoring: Track performance and identify potential problems.\n",
        "\n",
        "Flexibility: Different log levels and formats for specific needs.\n",
        "\n",
        "Centralized Log Management: Logs can be aggregated from different sources."
      ],
      "metadata": {
        "id": "AUT4RkaG2k9L"
      }
    },
    {
      "cell_type": "markdown",
      "source": [
        "11. What is memory management in Python?\n",
        "\n",
        "Answer: Memory management in Python refers to how Python allocates and deallocates memory for objects during program execution.\n",
        "\n",
        "Automatic: Python uses automatic memory management through garbage collection.\n",
        "\n",
        "Dynamic: Memory is allocated as needed at runtime, and unused memory is reclaimed automatically.\n",
        "\n",
        "Reference Counting: Python uses reference counting to reclaim memory, as well as garbage collection for cyclical references."
      ],
      "metadata": {
        "id": "tXTEBzMo2k_m"
      }
    },
    {
      "cell_type": "markdown",
      "source": [
        "12. What are the basic steps involved in exception handling in Python?\n",
        "\n",
        "Answer:\n",
        "\n",
        "try block: Enclose the code that might raise an exception within a try block.\n",
        "\n",
        "except block: Followed by one or more except blocks to catch specific exception types (e.g., except TypeError:).\n",
        "\n",
        "Exception Handling Code: If an exception occurs in the try block, the associated except block is executed, handling the error gracefully.\n",
        "\n",
        "finally block (Optional): An optional finally block can be used to perform cleanups, regardless if the try block completed or if an exception was raised."
      ],
      "metadata": {
        "id": "eRr0l27A2lCH"
      }
    },
    {
      "cell_type": "markdown",
      "source": [
        "13. Why is memory management important in Python?\n",
        "\n",
        "Answer:\n",
        "* Performance: Efficient memory management is crucial for performance.\n",
        "* Resource Usage: Prevents programs from consuming excessive memory, especially for long-running processes or very large datasets.\n",
        "* Stability: Improper memory handling can lead to crashes or slow performance.\n",
        "* Scalability: Helps in creating applications that can scale without consuming too many resources."
      ],
      "metadata": {
        "id": "SksJCSbp2lEi"
      }
    },
    {
      "cell_type": "markdown",
      "source": [
        "14. What is the role of try and except in exception handling?\n",
        "\n",
        "Answer:\n",
        "\n",
        "try Block: The try block encapsulates the code that might raise an exception. It signals that certain operations need to be guarded from runtime errors.\n",
        "\n",
        "except Block: The except block is the actual handler of the errors. This is where you define what to do if the exception happens inside the try block."
      ],
      "metadata": {
        "id": "UYChw_Lm2lHY"
      }
    },
    {
      "cell_type": "markdown",
      "source": [
        "15. How does Python's garbage collection system work?\n",
        "\n",
        "Answer:\n",
        "\n",
        "Reference Counting: Python first counts how many references an object has to it. If an object has no references to it (reference count becomes 0), the object's memory is automatically freed.\n",
        "\n",
        "Garbage Collection: For cyclical references (objects referencing each other) garbage collector is used to identify objects not in active use, which are then removed.\n",
        "\n",
        "Automatic: The garbage collector works in the background automatically.\n",
        "\n",
        "Manual Trigger: It can also be triggered manually using the gc module."
      ],
      "metadata": {
        "id": "DTMA9Pru2lJy"
      }
    },
    {
      "cell_type": "markdown",
      "source": [
        "16. What is the purpose of the else block in exception handling?\n",
        "\n",
        "Answer: The else block is an optional block in a try...except...else structure that is executed if no exception is raised in the try block.\n",
        "\n",
        "Success Handling: Used to execute code if the try block successfully completes, before the optional finally block.\n",
        "\n",
        "Clear Separation: Enhances readability by separating code for success cases from error-handling cases."
      ],
      "metadata": {
        "id": "POtx97Fo2lMY"
      }
    },
    {
      "cell_type": "markdown",
      "source": [
        "7. What are the common logging levels in Python?\n",
        "\n",
        "*   **Answer:**\n",
        "    *   **DEBUG:** Detailed information, typically for debugging.\n",
        "    *   **INFO:** General information about the program's execution.\n",
        "    *   **WARNING:** Indicates potential issues or unexpected situations.\n",
        "    *   **ERROR:**  Indicates errors that may impact the functionality but not stop the execution completely.\n",
        "    *   **CRITICAL:** Indicates critical errors that may lead to program termination."
      ],
      "metadata": {
        "id": "mkv7bva12lOm"
      }
    },
    {
      "cell_type": "markdown",
      "source": [
        "18. What is the difference between os.fork() and multiprocessing in Python?\n",
        "\n",
        "*   **Answer:**\n",
        "    *   **`os.fork()`:**\n",
        "        *   **Unix-Like Systems:** Creates a child process that is an exact copy of the parent process (including memory, resources).\n",
        "        *   **Low Level:** OS-level system call.\n",
        "        *   **Shared Memory:** Child process can access the memory of the parent, which can lead to complexity and data corruption.\n",
        "        *   **Restricted Use Cases:** In Python `os.fork()` should only be used in cases when a child process is going to call `os.execve` immediately. Otherwise you are not supposed to use `os.fork()` in Python.\n",
        "    *   **Multiprocessing:**\n",
        "        *   **Cross-Platform:** Works on Windows, macOS and Linux, unlike `os.fork()`.\n",
        "        *   **Separate Memory:** Processes have their own memory and resources.\n",
        "        *   **Recommended:** More suitable for parallel processing as it handles shared memory and resource sharing, and hides underlying operating system details."
      ],
      "metadata": {
        "id": "mQwwuN1S2lRA"
      }
    },
    {
      "cell_type": "markdown",
      "source": [
        "19. What is the importance of closing a file in Python?\n",
        "\n",
        "Answer:\n",
        "\n",
        "Resource Release: Releases resources that were allocated to the file by the operating system, such as file handles.\n",
        "\n",
        "Data Integrity: Writes any buffered data to disk ensuring data integrity and no loss of data.\n",
        "\n",
        "Availability: Prevents file lock-ups and makes the file available to other processes.\n",
        "\n",
        "with Statement: The with statement automatically closes the file."
      ],
      "metadata": {
        "id": "A1WUqcQ_2lTa"
      }
    },
    {
      "cell_type": "markdown",
      "source": [
        "20. What is the difference between file.read() and file.readline() in Python?\n",
        "\n",
        "Answer:\n",
        "\n",
        "file.read(): Reads the entire content of the file as a single string.\n",
        "\n",
        "file.readline(): Reads a single line from the file (including the newline character) as a string.\n",
        "\n",
        "Usage: file.read() for reading all content at once, file.readline() for iterating over the file line by line."
      ],
      "metadata": {
        "id": "ZKDoiSvV2lVz"
      }
    },
    {
      "cell_type": "markdown",
      "source": [
        "21. What is the logging module in Python used for?\n",
        "\n",
        "Answer:\n",
        "\n",
        "Logging: The logging module provides a flexible and configurable way to implement logging.\n",
        "\n",
        "Levels: Supports different log levels (DEBUG, INFO, WARNING, ERROR, CRITICAL).\n",
        "\n",
        "Flexibility: Enables custom formatting, handling, and log message destinations (files, console, etc.).\n",
        "\n",
        "Code Maintainability: Enables debugging, monitoring, and tracing without adding numerous print statements to the codebase."
      ],
      "metadata": {
        "id": "rrRk7KHO2lYO"
      }
    },
    {
      "cell_type": "markdown",
      "source": [
        "22. What is the os module in Python used for in file handling?\n",
        "\n",
        "Answer: The os module provides functions to interact with the operating system. In file handling, it is used for:\n",
        "* File Operations: Checking if a file exists, deleting files, renaming files, getting file metadata, directory management.\n",
        "* Paths: Constructing and manipulating file paths in a platform-independent way.\n",
        "* Interacting with OS: Providing an interface to interact with the underlying operating system."
      ],
      "metadata": {
        "id": "JSi7g-MR2lao"
      }
    },
    {
      "cell_type": "markdown",
      "source": [
        "23. What are the challenges associated with memory management in Python?\n",
        "\n",
        "*   **Answer:**\n",
        "    *   **Overhead:** Automatic memory management through garbage collection has some overhead.\n",
        "    *   **Memory Leaks:** Despite garbage collection, cyclical references may lead to memory leaks if not handled properly.\n",
        "    *   **Large Datasets:** Managing large datasets efficiently can be challenging.\n",
        "    *   **Performance:** Incorrect memory allocation may lead to performance issues.\n",
        "    *   **Optimization:** Manual optimization can be tricky due to Python being an interpreted language."
      ],
      "metadata": {
        "id": "tYwWnnxV2lc8"
      }
    },
    {
      "cell_type": "markdown",
      "source": [
        "24. How do you raise an exception manually in Python?\n",
        "\n",
        "Answer: You can raise an exception using the raise keyword followed by an exception class, which is then handled in the except blocks\n",
        "\n",
        "Example: raise ValueError(\"Invalid value\")"
      ],
      "metadata": {
        "id": "5-wpJPIy2lfW"
      }
    },
    {
      "cell_type": "markdown",
      "source": [
        "25. Why is it important to use multithreading in certain applications?\n",
        "\n",
        "Answer: Multithreading is important for applications that have:\n",
        "\n",
        "Concurrency: I/O-bound operations like network requests, where threads can wait for responses without blocking the program.\n",
        "\n",
        "Responsiveness: Keeping the application responsive while performing lengthy operations.\n",
        "\n",
        "Task Parallelism: Performing concurrent tasks, although the GIL in CPython may limit real parallelism for CPU-bound tasks.\n",
        "\n",
        "Resource Optimization: Efficiently using shared resources and reducing memory usage, compared to multiprocessing for many tasks that involve I/O wait."
      ],
      "metadata": {
        "id": "QvjkPEgp2lhp"
      }
    },
    {
      "cell_type": "code",
      "source": [
        "#PRACTICAL ANSWER"
      ],
      "metadata": {
        "id": "BSc6nQM94gcY"
      },
      "execution_count": null,
      "outputs": []
    },
    {
      "cell_type": "markdown",
      "source": [
        "1. How can you open a file for writing in Python and write a string to it?"
      ],
      "metadata": {
        "id": "_jesk0eD4jzu"
      }
    },
    {
      "cell_type": "code",
      "source": [
        "try:\n",
        "    with open(\"my_file.txt\", \"w\") as file: # 'w' mode for writing, overwrites if file exists\n",
        "        file.write(\"This is a string written to the file.\")\n",
        "    print(\"File created and written to successfully!\")\n",
        "except Exception as e:\n",
        "        print(f\"An error occurred while writing to the file: {e}\")"
      ],
      "metadata": {
        "id": "7Neoz1tJ4kDj"
      },
      "execution_count": null,
      "outputs": []
    },
    {
      "cell_type": "markdown",
      "source": [
        "2. Write a Python program to read the contents of a file and print each line."
      ],
      "metadata": {
        "id": "EVfoLLUs4kO9"
      }
    },
    {
      "cell_type": "code",
      "source": [
        "try:\n",
        "  with open(\"my_file.txt\", \"r\") as file:\n",
        "      for line in file:\n",
        "          print(line.strip()) # strip removes the trailing newline characters\n",
        "except FileNotFoundError:\n",
        "    print(\"File not found!\")\n",
        "except Exception as e:\n",
        "    print(f\"An error occured while reading the file: {e}\")"
      ],
      "metadata": {
        "id": "zNMH0lam4kZf"
      },
      "execution_count": null,
      "outputs": []
    },
    {
      "cell_type": "markdown",
      "source": [
        "3. How would you handle a case where the file doesn't exist while trying to open it for reading?"
      ],
      "metadata": {
        "id": "5NDsCnTg4kqt"
      }
    },
    {
      "cell_type": "code",
      "source": [
        "try:\n",
        "    with open(\"non_existent_file.txt\", \"r\") as file:\n",
        "        content = file.read()\n",
        "except FileNotFoundError:\n",
        "    print(\"Error: The specified file does not exist.\")\n",
        "except Exception as e:\n",
        "    print(f\"An error occured: {e}\")\n",
        "\n",
        "\n",
        "        *   The `try` block attempts to open the file for reading (`\"r\"` mode).\n",
        "    *   If the file doesn't exist, Python raises a `FileNotFoundError`.\n",
        "    *   The `except FileNotFoundError` block catches this specific exception and prints an error message.\n",
        "    *   A more generic exception is also implemented for other potential errors.\n",
        "\n",
        "*   **Why this is the right approach:**\n",
        "    *   **Robustness:** It prevents the program from crashing when a file is missing.\n",
        "    *   **User-Friendly:** It provides a clear error message to the user, helping them understand what went wrong.\n",
        "    *   **Clarity:** It explicitly handles the `FileNotFoundError` rather than relying on a generic exception handler."
      ],
      "metadata": {
        "id": "DNQjXWP14k2J"
      },
      "execution_count": null,
      "outputs": []
    },
    {
      "cell_type": "markdown",
      "source": [
        "4. Write a Python script that reads from one file and writes its content to another file."
      ],
      "metadata": {
        "id": "TbWyaj_94k_5"
      }
    },
    {
      "cell_type": "code",
      "source": [
        "try:\n",
        "  with open(\"source.txt\", \"r\") as source_file:\n",
        "      with open(\"destination.txt\", \"w\") as dest_file:\n",
        "          for line in source_file:\n",
        "              dest_file.write(line)\n",
        "  print(\"File copied successfully\")\n",
        "except FileNotFoundError:\n",
        "    print(\"File not found!\")\n",
        "except Exception as e:\n",
        "    print(f\"An error occured during file copy: {e}\")"
      ],
      "metadata": {
        "id": "30BZBxpB4lKN"
      },
      "execution_count": null,
      "outputs": []
    },
    {
      "cell_type": "markdown",
      "source": [
        "5. How would you catch and handle division by zero error in Python?"
      ],
      "metadata": {
        "id": "4odqQzGJ4lai"
      }
    },
    {
      "cell_type": "code",
      "source": [
        "try:\n",
        "    result = 10 / 0\n",
        "except ZeroDivisionError:\n",
        "    print(\"Error: Cannot divide by zero!\")\n",
        "except Exception as e:\n",
        "    print(f\"An error occured: {e}\")"
      ],
      "metadata": {
        "id": "1OUX0t7X4lkx"
      },
      "execution_count": null,
      "outputs": []
    },
    {
      "cell_type": "markdown",
      "source": [
        "6. Write a Python program that logs an error message to a log file when a division by zero exception occurs."
      ],
      "metadata": {
        "id": "X53hzbUf4lu6"
      }
    },
    {
      "cell_type": "code",
      "source": [
        "import logging\n",
        "\n",
        "logging.basicConfig(filename=\"my_log.log\", level=logging.ERROR, format='%(asctime)s - %(levelname)s - %(message)s')\n",
        "try:\n",
        "    result = 10 / 0\n",
        "except ZeroDivisionError:\n",
        "    logging.error(\"Error: Division by zero occurred!\")\n",
        "except Exception as e:\n",
        "    logging.error(f\"An error occured {e}\")\n",
        "\n",
        "print(\"Done\")"
      ],
      "metadata": {
        "id": "7fkRoYCQ4l47"
      },
      "execution_count": null,
      "outputs": []
    },
    {
      "cell_type": "markdown",
      "source": [
        "7. How do you log information at different levels (INFO, ERROR, WARNING) in Python using the logging module?"
      ],
      "metadata": {
        "id": "uvmISpF94mEb"
      }
    },
    {
      "cell_type": "code",
      "source": [
        "import logging\n",
        "\n",
        "logging.basicConfig(filename=\"my_log.log\", level=logging.INFO, format='%(asctime)s - %(levelname)s - %(message)s')\n",
        "\n",
        "logging.info(\"This is an informational message.\")\n",
        "logging.warning(\"This is a warning message.\")\n",
        "logging.error(\"This is an error message.\")\n",
        "\n",
        "print(\"Done\")"
      ],
      "metadata": {
        "id": "bdsQyRbZ4mR4"
      },
      "execution_count": null,
      "outputs": []
    },
    {
      "cell_type": "markdown",
      "source": [
        "8. Write a program to handle a file opening error using exception handling."
      ],
      "metadata": {
        "id": "uyU3YAea4mfK"
      }
    },
    {
      "cell_type": "code",
      "source": [
        "try:\n",
        "    with open(\"non_existent_file.txt\", \"r\") as file:\n",
        "        content = file.read()\n",
        "except FileNotFoundError:\n",
        "    print(\"Error: The specified file does not exist.\")\n",
        "except Exception as e:\n",
        "    print(f\"An error occured: {e}\")\n",
        "\n",
        "    *   **Why this is the right approach:**\n",
        "    *   It ensures our program doesn't crash if a file-related issue occurs, it's a common and important practice in real-world Python.\n",
        "    *   It's the standard way to handle file-related errors, Python's exception model expects error handling to be implemented this way.\n",
        "    * It can handle a specific error such as `FileNotFoundError` and other more generic errors."
      ],
      "metadata": {
        "id": "Z7E8QGz84moA"
      },
      "execution_count": null,
      "outputs": []
    },
    {
      "cell_type": "markdown",
      "source": [
        "\n",
        "9. How can you read a file line by line and store its content in a list in Python?"
      ],
      "metadata": {
        "id": "nTPB4xnB4m7J"
      }
    },
    {
      "cell_type": "code",
      "source": [
        "try:\n",
        "    line_list = []\n",
        "    with open(\"my_file.txt\", \"r\") as file:\n",
        "      for line in file:\n",
        "          line_list.append(line.strip())\n",
        "    print(line_list)\n",
        "except FileNotFoundError:\n",
        "    print(\"File not found\")\n",
        "except Exception as e:\n",
        "    print(f\"An error occured: {e}\")"
      ],
      "metadata": {
        "id": "3SQZ3wDQ4nF0"
      },
      "execution_count": null,
      "outputs": []
    },
    {
      "cell_type": "markdown",
      "source": [
        "10. How can you append data to an existing file in Python?"
      ],
      "metadata": {
        "id": "fHUp720E4nPJ"
      }
    },
    {
      "cell_type": "code",
      "source": [
        "try:\n",
        "  with open(\"my_file.txt\", \"a\") as file:\n",
        "        file.write(\"\\nThis is new data appended to the end.\") # Add a newline char for spacing\n",
        "  print(\"Data appended to the file\")\n",
        "except FileNotFoundError:\n",
        "    print(\"File not found\")\n",
        "except Exception as e:\n",
        "    print(f\"An error occured: {e}\")"
      ],
      "metadata": {
        "id": "F4F4cRwZ4nca"
      },
      "execution_count": null,
      "outputs": []
    },
    {
      "cell_type": "markdown",
      "source": [
        "11. Write a Python program that uses a try-except block to handle an error when attempting to access a dictionary key that doesn't exist."
      ],
      "metadata": {
        "id": "jC4KnHL54nmY"
      }
    },
    {
      "cell_type": "code",
      "source": [
        "my_dict = {\"a\": 1, \"b\": 2}\n",
        "\n",
        "try:\n",
        "    value = my_dict[\"c\"] # This key doesn't exist\n",
        "except KeyError:\n",
        "    print(\"Error: Key 'c' not found in the dictionary.\")\n",
        "except Exception as e:\n",
        "    print(f\"An error occured {e}\")"
      ],
      "metadata": {
        "id": "k4Rm605m4nxU"
      },
      "execution_count": null,
      "outputs": []
    },
    {
      "cell_type": "markdown",
      "source": [
        "12. Write a program that demonstrates using multiple except blocks to handle different types of exceptions."
      ],
      "metadata": {
        "id": "Ryq_7o9o4n8U"
      }
    },
    {
      "cell_type": "code",
      "source": [
        "my_list = [1,2]\n",
        "my_dict = {\"a\":1, \"b\":2}\n",
        "try:\n",
        "    #potential errors here (can change to see different errors)\n",
        "    # value = 10/0 # triggers ZeroDivisionError\n",
        "    # print(my_list[5]) # triggers IndexError\n",
        "    print(my_dict[\"c\"]) #triggers KeyError\n",
        "except ZeroDivisionError:\n",
        "    print(\"Error: Cannot divide by zero\")\n",
        "except IndexError:\n",
        "    print(\"Error: Index out of bounds\")\n",
        "except KeyError:\n",
        "    print(\"Error: Key not found in dictionary\")\n",
        "except Exception as e:\n",
        "    print(f\"An error occured: {e}\")"
      ],
      "metadata": {
        "id": "riotUZiy4oEs"
      },
      "execution_count": null,
      "outputs": []
    },
    {
      "cell_type": "markdown",
      "source": [
        "13. How would you check if a file exists before attempting to read it in Python?"
      ],
      "metadata": {
        "id": "kZicWLNU4oOB"
      }
    },
    {
      "cell_type": "code",
      "source": [
        "import os\n",
        "\n",
        "if os.path.exists(\"my_file.txt\"):\n",
        "    try:\n",
        "        with open(\"my_file.txt\", \"r\") as file:\n",
        "            content = file.read()\n",
        "            print(content)\n",
        "    except Exception as e:\n",
        "        print(f\"An error occured: {e}\")\n",
        "else:\n",
        "    print(\"The file does not exist.\")"
      ],
      "metadata": {
        "id": "lDKJetco4oW6"
      },
      "execution_count": null,
      "outputs": []
    },
    {
      "cell_type": "markdown",
      "source": [
        "14. Write a program that uses the logging module to log both informational and error messages."
      ],
      "metadata": {
        "id": "zYhqTfOk4ogr"
      }
    },
    {
      "cell_type": "code",
      "source": [
        "import logging\n",
        "\n",
        "logging.basicConfig(filename=\"my_log.log\", level=logging.INFO, format='%(asctime)s - %(levelname)s - %(message)s')\n",
        "\n",
        "logging.info(\"This is an informational message.\")\n",
        "logging.warning(\"This is a warning message.\")\n",
        "logging.error(\"This is an error message.\")\n",
        "\n",
        "print(\"Done\")\n",
        "\n",
        ""
      ],
      "metadata": {
        "id": "9fFq_ZV04opb"
      },
      "execution_count": null,
      "outputs": []
    },
    {
      "cell_type": "markdown",
      "source": [
        "15. Write a Python program that prints the content of a file and handles the case when the file is empty."
      ],
      "metadata": {
        "id": "L1tAKTrK4oyZ"
      }
    },
    {
      "cell_type": "code",
      "source": [
        "try:\n",
        "    with open(\"my_file.txt\", \"r\") as file:\n",
        "        content = file.read()\n",
        "        if content:  # Check if the string is not empty\n",
        "            print(content)\n",
        "        else:\n",
        "            print(\"File is empty.\")\n",
        "except FileNotFoundError:\n",
        "    print(\"File not found.\")\n",
        "except Exception as e:\n",
        "    print(f\"An error occured: {e}\")"
      ],
      "metadata": {
        "id": "ItFx63704o89"
      },
      "execution_count": null,
      "outputs": []
    },
    {
      "cell_type": "markdown",
      "source": [
        "16. Demonstrate how to use memory profiling to check the memory usage of a small program."
      ],
      "metadata": {
        "id": "mOdhpd8I4pQ9"
      }
    },
    {
      "cell_type": "code",
      "source": [],
      "metadata": {
        "id": "YB4kSuR64pca"
      },
      "execution_count": null,
      "outputs": []
    },
    {
      "cell_type": "markdown",
      "source": [
        "17. Write a Python program to create and write a list of numbers to a file, one number per line."
      ],
      "metadata": {
        "id": "fabUo3Wx4pl8"
      }
    },
    {
      "cell_type": "code",
      "source": [
        "try:\n",
        "    numbers = [10, 20, 30, 40, 50]\n",
        "    with open(\"numbers.txt\", \"w\") as file:\n",
        "        for number in numbers:\n",
        "            file.write(str(number) + \"\\n\")\n",
        "    print(\"Numbers written to the file successfully\")\n",
        "except Exception as e:\n",
        "    print(f\"An error occured while writing numbers: {e}\")"
      ],
      "metadata": {
        "id": "yP_wfLpY4pvQ"
      },
      "execution_count": null,
      "outputs": []
    },
    {
      "cell_type": "markdown",
      "source": [
        "18. How would you implement a basic logging setup that logs to a file with rotation after 1MB?"
      ],
      "metadata": {
        "id": "l1lNeG7c4qKD"
      }
    },
    {
      "cell_type": "code",
      "source": [],
      "metadata": {
        "id": "IyK6lh1B4qSM"
      },
      "execution_count": null,
      "outputs": []
    },
    {
      "cell_type": "markdown",
      "source": [
        "19. Write a program that handles both IndexError and KeyError using a try-except block."
      ],
      "metadata": {
        "id": "0oObKPPX4qdl"
      }
    },
    {
      "cell_type": "code",
      "source": [
        "my_list = [1,2]\n",
        "my_dict = {\"a\":1, \"b\":2}\n",
        "try:\n",
        "    #potential errors here (can change to see different errors)\n",
        "    # value = 10/0 # triggers ZeroDivisionError\n",
        "    # print(my_list[5]) # triggers IndexError\n",
        "    print(my_dict[\"c\"]) #triggers KeyError\n",
        "except ZeroDivisionError:\n",
        "    print(\"Error: Cannot divide by zero\")\n",
        "except IndexError:\n",
        "    print(\"Error: Index out of bounds\")\n",
        "except KeyError:\n",
        "    print(\"Error: Key not found in dictionary\")\n",
        "except Exception as e:\n",
        "    print(f\"An error occured: {e}\")"
      ],
      "metadata": {
        "id": "5fk5LZ6o4qmL"
      },
      "execution_count": null,
      "outputs": []
    },
    {
      "cell_type": "markdown",
      "source": [
        "20. How would you open a file and read its contents using a context manager in Python?"
      ],
      "metadata": {
        "id": "F-iX4fFa4qvG"
      }
    },
    {
      "cell_type": "code",
      "source": [
        "try:\n",
        "  with open(\"my_file.txt\", \"r\") as file:\n",
        "        content = file.read()\n",
        "        print(content)\n",
        "except FileNotFoundError:\n",
        "    print(\"File not found\")\n",
        "except Exception as e:\n",
        "    print(f\"An error occured: {e}\")"
      ],
      "metadata": {
        "id": "6DiFqOBk4q5U"
      },
      "execution_count": null,
      "outputs": []
    },
    {
      "cell_type": "markdown",
      "source": [
        "21. Write a Python program that reads a file and prints the number of occurrences of a specific word."
      ],
      "metadata": {
        "id": "Or2A7cmW7Hqg"
      }
    },
    {
      "cell_type": "code",
      "source": [
        "try:\n",
        "    word_to_find = \"the\"\n",
        "    count = 0\n",
        "    with open(\"my_file.txt\", \"r\") as file:\n",
        "        for line in file:\n",
        "            words = line.lower().split() # Split lines into words (convert to lower case to make it case insensitive)\n",
        "            count += words.count(word_to_find) # count the number of occurences\n",
        "    print(f\"The word '{word_to_find}' appears {count} times in the file.\")\n",
        "except FileNotFoundError:\n",
        "    print(\"File not found\")\n",
        "except Exception as e:\n",
        "    print(f\"An error occured: {e}\")"
      ],
      "metadata": {
        "id": "6hcvDtc57H2h"
      },
      "execution_count": null,
      "outputs": []
    },
    {
      "cell_type": "markdown",
      "source": [
        "22. How can you check if a file is empty before attempting to read its contents?"
      ],
      "metadata": {
        "id": "1v6t1m607IBw"
      }
    },
    {
      "cell_type": "code",
      "source": [
        "import os\n",
        "\n",
        "if os.path.exists(\"my_file.txt\"):\n",
        "    if os.path.getsize(\"my_file.txt\") == 0:\n",
        "        print(\"File is empty\")\n",
        "    else:\n",
        "        try:\n",
        "            with open(\"my_file.txt\", \"r\") as file:\n",
        "                content = file.read()\n",
        "                print(content)\n",
        "        except Exception as e:\n",
        "           print(f\"An error occured: {e}\")\n",
        "else:\n",
        "    print(\"File not found\")"
      ],
      "metadata": {
        "id": "HWu68oj47IKE"
      },
      "execution_count": null,
      "outputs": []
    },
    {
      "cell_type": "markdown",
      "source": [
        "23. Write a Python program that writes to a log file when an error occurs during file handling."
      ],
      "metadata": {
        "id": "oytUjN1x7Inw"
      }
    },
    {
      "cell_type": "code",
      "source": [
        "import logging\n",
        "\n",
        "logging.basicConfig(filename=\"file_handling_log.log\", level=logging.ERROR, format='%(asctime)s - %(levelname)s - %(message)s')\n",
        "\n",
        "try:\n",
        "    with open(\"non_existent_file.txt\", \"r\") as file: # intentionally open a file that doesn't exist\n",
        "        content = file.read()\n",
        "except FileNotFoundError:\n",
        "    logging.error(\"File not found!\")\n",
        "except Exception as e:\n",
        "    logging.error(f\"An error occured: {e}\")\n",
        "print(\"Done\")"
      ],
      "metadata": {
        "id": "5YbMhUdA7I4e"
      },
      "execution_count": null,
      "outputs": []
    },
    {
      "cell_type": "markdown",
      "source": [],
      "metadata": {
        "id": "nVOlWzAI7JLn"
      }
    },
    {
      "cell_type": "code",
      "source": [],
      "metadata": {
        "id": "KrJhS9wy7JXz"
      },
      "execution_count": null,
      "outputs": []
    }
  ]
}